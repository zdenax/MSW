{
 "cells": [
  {
   "cell_type": "code",
   "execution_count": null,
   "id": "e953c61d",
   "metadata": {
    "vscode": {
     "languageId": "plaintext"
    }
   },
   "outputs": [],
   "source": [
    "První řádek\n",
    "\n"
   ]
  },
  {
   "cell_type": "markdown",
   "id": "d2abe06f",
   "metadata": {},
   "source": [
    "jupi"
   ]
  }
 ],
 "metadata": {
  "language_info": {
   "name": "python"
  }
 },
 "nbformat": 4,
 "nbformat_minor": 5
}
